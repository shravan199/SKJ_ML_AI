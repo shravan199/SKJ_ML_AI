{
 "cells": [
  {
   "cell_type": "code",
   "execution_count": 22,
   "id": "acde5c0c",
   "metadata": {},
   "outputs": [],
   "source": [
    "import numpy as np\n",
    "import pandas as pd\n",
    "import PyPDF2"
   ]
  },
  {
   "cell_type": "code",
   "execution_count": 23,
   "id": "8147e151",
   "metadata": {},
   "outputs": [
    {
     "name": "stdout",
     "output_type": "stream",
     "text": [
      "curretn path: C:\\Users\\window 10\\Documents\\SKJ ML & AI\\BPSC Teacher analysis\n"
     ]
    }
   ],
   "source": [
    "import os\n",
    "print(f'curretn path: {os.getcwd()}')"
   ]
  },
  {
   "cell_type": "code",
   "execution_count": 24,
   "id": "6429ed9d",
   "metadata": {},
   "outputs": [],
   "source": [
    "def isVertical(page):\n",
    "    page = page.mediabox\n",
    "    return page.right() - page.left() < page.getUpperRight_y() - page.getLowerRight_y()"
   ]
  },
  {
   "cell_type": "code",
   "execution_count": 31,
   "id": "4447df9b",
   "metadata": {},
   "outputs": [
    {
     "name": "stdout",
     "output_type": "stream",
     "text": [
      "PDF file object:<_io.BufferedReader name='./data/bpsc_9_10_english_result.pdf'>\n",
      "pages: <PyPDF2._page._VirtualList object at 0x0000025C63DCE100> , type: <class 'PyPDF2._page._VirtualList'>\n",
      "\n",
      "No. of pages: 76\n",
      "\n",
      "Get Document Info: {'/CreationDate': \"D:20231022002717+05'30'\", '/Author': 'BPSC', '/Producer': '3-Heights™ PDF Optimization Shell 6.3.1.5 (http://www.pdf-tools.com)', '/ModDate': \"D:20231022025735+05'30'\", '/Title': ''}\n",
      "\n",
      "Type of pageObj: <class 'PyPDF2._page.PageObject'> \n",
      "\n",
      "Mediabox: RectangleObject([0, 0, 612, 792]), type: <class 'PyPDF2.generic._rectangle.RectangleObject'>\n"
     ]
    }
   ],
   "source": [
    "#bpsc_9_10_english = tabula.io.read_pdf(url='./bpsc_9_10_english_result.pdf', pages='all')\n",
    "\n",
    "# creating a pdf file object\n",
    "bpsc_9_10_english_fo= open('./data/bpsc_9_10_english_result.pdf', 'rb')\n",
    "print(f'PDF file object:{bpsc_9_10_english_fo}')\n",
    "\n",
    "# creating a pdf reader object\n",
    "bpsc_9_10_eng_result = PyPDF2.PdfReader(bpsc_9_10_english_fo)\n",
    "\n",
    "# printing number of pages in pdf file\n",
    "print(f'pages: {bpsc_9_10_eng_result.pages} , type: {type(bpsc_9_10_eng_result.pages)}\\n')\n",
    "\n",
    "print(f'No. of pages: {len(bpsc_9_10_eng_result.pages)}\\n')\n",
    "\n",
    "print(f'Get Document Info: {bpsc_9_10_eng_result.metadata}\\n')\n",
    "\n",
    "# creating a page object\n",
    "pageObj = bpsc_9_10_eng_result.pages[0]\n",
    "\n",
    "print(f'Type of pageObj: {type(pageObj)} \\n')\n",
    "\n",
    "print(f'Mediabox: {pageObj.mediabox}, type: {type(pageObj.mediabox)}')\n",
    "\n",
    "\n"
   ]
  },
  {
   "cell_type": "code",
   "execution_count": 33,
   "id": "04aae63e",
   "metadata": {},
   "outputs": [],
   "source": [
    "# Merge pdf file\n",
    "from PyPDF2 import PdfMerger"
   ]
  },
  {
   "cell_type": "code",
   "execution_count": 34,
   "id": "646adc31",
   "metadata": {},
   "outputs": [],
   "source": [
    "pdf_merger = PdfMerger()"
   ]
  },
  {
   "cell_type": "code",
   "execution_count": 35,
   "id": "58342f35",
   "metadata": {},
   "outputs": [
    {
     "name": "stdout",
     "output_type": "stream",
     "text": [
      "Type ofp pdf_merger: <class 'PyPDF2._merger.PdfMerger'>\n"
     ]
    }
   ],
   "source": [
    "print(f'Type ofp pdf_merger: {type(pdf_merger)}')"
   ]
  },
  {
   "cell_type": "code",
   "execution_count": 44,
   "id": "166b9822",
   "metadata": {},
   "outputs": [
    {
     "data": {
      "text/plain": [
       "'C:\\\\Users\\\\window 10\\\\Documents\\\\SKJ ML & AI\\\\BPSC Teacher analysis'"
      ]
     },
     "execution_count": 44,
     "metadata": {},
     "output_type": "execute_result"
    }
   ],
   "source": [
    "# help(os)\n",
    "os.getcwd()"
   ]
  },
  {
   "cell_type": "code",
   "execution_count": 45,
   "id": "d3591c53",
   "metadata": {},
   "outputs": [
    {
     "name": "stdout",
     "output_type": "stream",
     "text": [
      "rpt_dir C:\\Users\\window 10\\Documents\\SKJ ML & AI\\BPSC Teacher analysis/Data/Merge PDF files\\\n"
     ]
    }
   ],
   "source": [
    "report_dirctory = os.path.join(os.getcwd()+'/Data/Merge PDF files', '')\n",
    "print(f'rpt_dir {report_dirctory}')"
   ]
  },
  {
   "cell_type": "code",
   "execution_count": 57,
   "id": "38b9f6d1",
   "metadata": {},
   "outputs": [
    {
     "data": {
      "text/plain": [
       "<function nt.listdir(path=None)>"
      ]
     },
     "execution_count": 57,
     "metadata": {},
     "output_type": "execute_result"
    }
   ],
   "source": [
    "os.listdir()"
   ]
  },
  {
   "cell_type": "code",
   "execution_count": 62,
   "id": "7b2d5690",
   "metadata": {},
   "outputs": [
    {
     "name": "stdout",
     "output_type": "stream",
     "text": [
      "Files: ['Email Etiquette eBook - MSBVision - Copy.pdf', 'Email Etiquette eBook - MSBVision.pdf']\n",
      "file_name: Email Etiquette eBook - MSBVision - Copy.pdf\n",
      "file_name: Email Etiquette eBook - MSBVision.pdf\n"
     ]
    }
   ],
   "source": [
    "files = [file for file in os.listdir(report_dirctory) if not file.startswith('.')]\n",
    "print(f'Files: {files}')\n",
    "\n",
    "for file_name in files:\n",
    "    print(f'file_name: {file_name}')\n",
    "    pdf_merger.append(os.path.join(report_dirctory, file_name))\n",
    "        "
   ]
  },
  {
   "cell_type": "code",
   "execution_count": 71,
   "id": "c1eaba49",
   "metadata": {},
   "outputs": [
    {
     "name": "stdout",
     "output_type": "stream",
     "text": [
      "Mediabox: RectangleObject([0, 0, 612, 792])\n",
      "Lower_left: (0, 0)\n",
      "Lower_right: (612, 0)\n",
      "upper_left: (0, 792)\n",
      "upper_right: (612, 792)\n"
     ]
    }
   ],
   "source": [
    "print(f'Mediabox: {pageObj.mediabox}')\n",
    "print(f'Lower_left: {pageObj.mediabox.lower_left}')\n",
    "print(f'Lower_right: {pageObj.mediabox.lower_right}')\n",
    "\n",
    "print(f'upper_left: {pageObj.mediabox.upper_left}')\n",
    "print(f'upper_right: {pageObj.mediabox.upper_right}')"
   ]
  },
  {
   "cell_type": "code",
   "execution_count": 67,
   "id": "603a43e0",
   "metadata": {},
   "outputs": [
    {
     "name": "stdout",
     "output_type": "stream",
     "text": [
      "Page index: 0, and page: 0\n",
      "Page index: 1, and page: 0\n",
      "Page index: 2, and page: 0\n",
      "Page index: 3, and page: 0\n",
      "Page index: 4, and page: 0\n",
      "Page index: 5, and page: 0\n",
      "Page index: 6, and page: 0\n",
      "Page index: 7, and page: 0\n",
      "Page index: 8, and page: 0\n",
      "Page index: 9, and page: 0\n",
      "Page index: 10, and page: 0\n",
      "Page index: 11, and page: 0\n",
      "Page index: 12, and page: 0\n",
      "Page index: 13, and page: 0\n",
      "Page index: 14, and page: 0\n",
      "Page index: 15, and page: 0\n",
      "Page index: 16, and page: 0\n",
      "Page index: 17, and page: 0\n",
      "Page index: 18, and page: 0\n",
      "Page index: 19, and page: 0\n",
      "Page index: 20, and page: 0\n",
      "Page index: 21, and page: 0\n",
      "Page index: 22, and page: 0\n",
      "Page index: 23, and page: 0\n",
      "Page index: 24, and page: 0\n",
      "Page index: 25, and page: 0\n",
      "Page index: 26, and page: 0\n",
      "Page index: 27, and page: 0\n",
      "Page index: 28, and page: 0\n",
      "Page index: 29, and page: 0\n",
      "Page index: 30, and page: 0\n",
      "Page index: 31, and page: 0\n",
      "Page index: 32, and page: 0\n",
      "Page index: 33, and page: 0\n",
      "Page index: 34, and page: 0\n",
      "Page index: 35, and page: 0\n",
      "Page index: 36, and page: 0\n",
      "Page index: 37, and page: 0\n",
      "Page index: 38, and page: 0\n",
      "Page index: 39, and page: 0\n",
      "Page index: 40, and page: 0\n",
      "Page index: 41, and page: 0\n",
      "Page index: 42, and page: 0\n",
      "Page index: 43, and page: 0\n",
      "Page index: 44, and page: 0\n",
      "Page index: 45, and page: 0\n",
      "Page index: 46, and page: 0\n",
      "Page index: 47, and page: 0\n",
      "Page index: 48, and page: 0\n",
      "Page index: 49, and page: 0\n",
      "Page index: 50, and page: 0\n",
      "Page index: 51, and page: 0\n",
      "Page index: 52, and page: 0\n",
      "Page index: 53, and page: 0\n",
      "Page index: 54, and page: 0\n",
      "Page index: 55, and page: 0\n",
      "Page index: 56, and page: 0\n",
      "Page index: 57, and page: 0\n",
      "Page index: 58, and page: 0\n",
      "Page index: 59, and page: 0\n",
      "Page index: 60, and page: 0\n",
      "Page index: 61, and page: 0\n",
      "Page index: 62, and page: 0\n",
      "Page index: 63, and page: 0\n",
      "Page index: 64, and page: 0\n",
      "Page index: 65, and page: 0\n",
      "Page index: 66, and page: 0\n",
      "Page index: 67, and page: 0\n",
      "Page index: 68, and page: 0\n",
      "Page index: 69, and page: 0\n",
      "Page index: 70, and page: 0\n",
      "Page index: 71, and page: 0\n",
      "Page index: 72, and page: 0\n",
      "Page index: 73, and page: 0\n",
      "Page index: 74, and page: 0\n",
      "Page index: 75, and page: 0\n"
     ]
    }
   ],
   "source": [
    "for pi, page in enumerate(bpsc_9_10_eng_result.pages):\n",
    "    print(f'Page index: {pi}, and page: {page.rotation}')"
   ]
  },
  {
   "cell_type": "code",
   "execution_count": null,
   "id": "5f31301d",
   "metadata": {},
   "outputs": [],
   "source": [
    "pageObj.rotate(90)"
   ]
  },
  {
   "cell_type": "code",
   "execution_count": 63,
   "id": "95538b39",
   "metadata": {},
   "outputs": [],
   "source": [
    "pdf_merger.write('merged_pdf_file.pdf')"
   ]
  },
  {
   "cell_type": "code",
   "execution_count": 72,
   "id": "d2a4cb21",
   "metadata": {},
   "outputs": [
    {
     "name": "stdout",
     "output_type": "stream",
     "text": [
      "  ͪवɮयालय\n",
      "        Ǒदनांक 25.08.2023  एवं Ǒदनांक \n",
      "परȣ¢ा के आधार पर  आयोग Ǔनà नांͩकत कुल\n",
      "English ͪवषय के अ Û तग[त सफल घो ͪषत करता है\n",
      "Unreserved (01)  \n",
      "Sl. \n",
      "No. Roll No. Name \n",
      "1.  871255 ASHISH BHARTI  \n",
      "2.  836335 RAJIV RANJAN GIRI\n",
      "3.  836643 NANDANA GAURAV\n",
      "4.  871426 KESHAV KUMAR VERMA\n",
      "5.  914760 RASHMI KUMARI  \n",
      "6.  852867 MD MAHWAR AKHTAR\n",
      "7.  871380 BINIT KUMAR  \n",
      "8.  909420 SHREENIVASH KUMAR KAMAL\n",
      "9.  911238 KANHAIYA KUMAR\n",
      "10.  835999 RUBY KUMARI \n",
      "11.  871374 SUMIT KUMAR  \n",
      "12.  871991 RUPESH KUMAR  \n",
      "13.  836256 MD ZAFFRULLA ZAFER\n",
      "14.  909122 VIJAY KUMAR  \n",
      "15.  835932 SUPRIYA KUMARI  \n",
      "16.  852728 SONALI KUMARI  \n",
      "17.  836029 RUBY KUMARI  \n",
      "18.  852924 DHRUB KUMAR VERMA\n",
      "19.  909395 DEVANAND KUMAR\n",
      "20.  835747 ANAND PRAKASH  \n",
      "21.  872289 NEETA \n",
      "22.  853075 SUNITI KUMARI  \n",
      "23.  909255 MINU \n",
      "24.  872437 AKANSHA SINGH  \n",
      "25.  914071 RAVI KUMAR KUNAL\n",
      "26.  852709 PRITI KANODIA  \n",
      "27.  911421 SUMAN SAURABH\n",
      "28.  852752 PRIYANKA KUMARI\n",
      "29.  909475 GUNJAN KUMARI  \n",
      "30.  871440 KAIJAR KUNDAN PRABHAT\n",
      "31.  852495 CHITRANJAN SOREN\n",
      "32.  853073 ARUNA KUMARI  \n",
      "33.  911449 SANJIV PRASAD DEO\n",
      "34.  914414 NITESH CHOUDHARY\n",
      "35.  871271 GAURAV KUMAR JHA\n",
      "36.  914533 KANHAIYA KUMAR\n",
      "37.  909111 KUMAR HARSH  \n",
      "38.  835857 PRIYA KUMARI  \n",
      "39.  871443 PRADEEP KUMAR YADAV\n",
      " \n",
      "ǒबहार लोक सेवा आयोग \n",
      "15, नेहǾ पथ (बेलȣ रोड), पटना - 800001 \n",
      "ͪव£ापन संÉया - 26/2023, \n",
      "ͪवɮयालय अÚयापक ǓनयुिÈत ĤǓतयोͬगता परȣ¢ा का परȣ¢ाफल\n",
      "माÚ यͧमक ͪवɮयालय (वग [ 9-10),  \n",
      "ͪवषय – English  \n",
      "एवं Ǒदनांक 26.08.2023  को आयोिजत ͪवɮयालय अ Ú यापक ǓनयुिÈत ĤǓतयोͬगता \n",
      "ͩकत कुल 4001 उà मीदवारɉ को माÚ यͧमक ͪवɮयालय \n",
      "ग[त सफल घो ͪषत करता है :-   \n",
      "Merit \n",
      "Serial Gender Remarks \n",
      "1 MALE  \n",
      "RAJIV RANJAN GIRI  2 MALE  \n",
      "NANDANA GAURAV  3 FEMALE  \n",
      "KESHAV KUMAR VERMA  4 MALE  \n",
      " 5 FEMALE  \n",
      "MD MAHWAR AKHTAR  6 MALE  \n",
      "7 MALE  \n",
      "SHREENIVASH KUMAR KAMAL  8 MALE  \n",
      "KANHAIYA KUMAR  9 MALE  \n",
      "10 FEMALE  \n",
      "11 MALE  \n",
      "12 MALE  \n",
      "MD ZAFFRULLA ZAFER  13 MALE  \n",
      "14 MALE  \n",
      " 15 FEMALE  \n",
      "16 FEMALE  \n",
      "17 FEMALE  \n",
      "DHRUB KUMAR VERMA  18 MALE  \n",
      "DEVANAND KUMAR  19 MALE  \n",
      " 20 MALE  \n",
      "21 FEMALE  \n",
      "22 FEMALE  \n",
      "23 FEMALE  \n",
      " 24 FEMALE  \n",
      "RAVI KUMAR KUNAL  25 MALE  \n",
      "26 FEMALE  \n",
      "SUMAN SAURABH  27 MALE  \n",
      "PRIYANKA KUMARI  28 FEMALE  \n",
      " 29 FEMALE  \n",
      "KAIJAR KUNDAN PRABHAT  30 MALE  \n",
      "CHITRANJAN SOREN  31 MALE  \n",
      "32 FEMALE  \n",
      "PRASAD DEO  33 MALE  \n",
      "NITESH CHOUDHARY  34 MALE  \n",
      "GAURAV KUMAR JHA  35 MALE  \n",
      "KANHAIYA KUMAR  36 MALE  \n",
      "37 MALE  \n",
      "38 FEMALE  \n",
      "PRADEEP KUMAR YADAV  39 MALE  का परȣ¢ाफल  \n",
      "पक ǓनयुिÈत ĤǓतयोͬगता \n",
      " (वग[ 9-10) के  \n"
     ]
    }
   ],
   "source": [
    "\n",
    "    \n",
    "# extracting text from page\n",
    "print(pageObj.extract_text())\n",
    "\n",
    "# closing the pdf file object\n",
    "bpsc_9_10_english_fo.close()"
   ]
  },
  {
   "cell_type": "code",
   "execution_count": null,
   "id": "d02128ed",
   "metadata": {},
   "outputs": [],
   "source": []
  }
 ],
 "metadata": {
  "kernelspec": {
   "display_name": "Python 3 (ipykernel)",
   "language": "python",
   "name": "python3"
  },
  "language_info": {
   "codemirror_mode": {
    "name": "ipython",
    "version": 3
   },
   "file_extension": ".py",
   "mimetype": "text/x-python",
   "name": "python",
   "nbconvert_exporter": "python",
   "pygments_lexer": "ipython3",
   "version": "3.9.13"
  }
 },
 "nbformat": 4,
 "nbformat_minor": 5
}
