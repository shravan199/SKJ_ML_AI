{
 "cells": [
  {
   "cell_type": "code",
   "execution_count": 3,
   "id": "93c67b6f",
   "metadata": {},
   "outputs": [],
   "source": [
    "import datetime"
   ]
  },
  {
   "cell_type": "code",
   "execution_count": 8,
   "id": "3eb75276",
   "metadata": {},
   "outputs": [
    {
     "name": "stdout",
     "output_type": "stream",
     "text": [
      "2023-04-09\n"
     ]
    }
   ],
   "source": [
    "print(datetime.date(2023, 4, 9))"
   ]
  },
  {
   "cell_type": "code",
   "execution_count": 10,
   "id": "575dda60",
   "metadata": {},
   "outputs": [
    {
     "name": "stdout",
     "output_type": "stream",
     "text": [
      "2023-04-09\n"
     ]
    }
   ],
   "source": [
    "curr_date= datetime.date.today()\n",
    "print(curr_date)"
   ]
  },
  {
   "cell_type": "code",
   "execution_count": 14,
   "id": "3c01a11a",
   "metadata": {},
   "outputs": [
    {
     "name": "stdout",
     "output_type": "stream",
     "text": [
      "6\n",
      "7\n"
     ]
    }
   ],
   "source": [
    "print(curr_date.weekday()) # Monday: 0 ... Sunday: 6\n",
    "print(curr_date.isoweekday()) # Monday:1 ... Sunday: 7"
   ]
  },
  {
   "cell_type": "code",
   "execution_count": 17,
   "id": "ce628df5",
   "metadata": {},
   "outputs": [
    {
     "name": "stdout",
     "output_type": "stream",
     "text": [
      "2023-04-02\n"
     ]
    }
   ],
   "source": [
    "tdelta = datetime.timedelta()\n",
    "print(curr_date - datetime.timedelta(days=7))"
   ]
  },
  {
   "cell_type": "code",
   "execution_count": 19,
   "id": "146577bd",
   "metadata": {},
   "outputs": [
    {
     "name": "stdout",
     "output_type": "stream",
     "text": [
      "179 days, 0:00:00\n"
     ]
    }
   ],
   "source": [
    "print(datetime.date(2023, 10, 5) - datetime.date.today()) # it returns timedelta "
   ]
  },
  {
   "cell_type": "code",
   "execution_count": null,
   "id": "af75e63d",
   "metadata": {},
   "outputs": [],
   "source": [
    "print(datetime.date(2023, 10, 5) - datetime.date.today()) # it returns timedelta "
   ]
  },
  {
   "cell_type": "code",
   "execution_count": 21,
   "id": "c11f635d",
   "metadata": {},
   "outputs": [
    {
     "name": "stdout",
     "output_type": "stream",
     "text": [
      "10:29:34.010000\n"
     ]
    }
   ],
   "source": [
    "print(datetime.time(10, 29, 34, 10000))"
   ]
  },
  {
   "cell_type": "code",
   "execution_count": 23,
   "id": "23b26f79",
   "metadata": {},
   "outputs": [
    {
     "name": "stdout",
     "output_type": "stream",
     "text": [
      "178 days, 13:28:07.487088\n"
     ]
    }
   ],
   "source": [
    "print(datetime.datetime(2023, 10, 5) - datetime.datetime.today())"
   ]
  },
  {
   "cell_type": "code",
   "execution_count": 24,
   "id": "51310ff7",
   "metadata": {},
   "outputs": [
    {
     "name": "stdout",
     "output_type": "stream",
     "text": [
      "Requirement already satisfied: pytz in d:\\softwares\\anaconda\\lib\\site-packages (2022.1)\n",
      "Note: you may need to restart the kernel to use updated packages.\n"
     ]
    }
   ],
   "source": [
    "pip install pytz"
   ]
  },
  {
   "cell_type": "code",
   "execution_count": 25,
   "id": "9d8d0fea",
   "metadata": {},
   "outputs": [],
   "source": [
    "import pytz"
   ]
  },
  {
   "cell_type": "code",
   "execution_count": 27,
   "id": "9747be3f",
   "metadata": {},
   "outputs": [
    {
     "name": "stdout",
     "output_type": "stream",
     "text": [
      "2023-04-09 11:09:09.706596\n",
      "2023-04-09 11:09:09.706595\n",
      "2023-04-09 05:39:09.707596\n"
     ]
    }
   ],
   "source": [
    "print(datetime.datetime.today())\n",
    "print(datetime.datetime.now())\n",
    "print(datetime.datetime.utcnow())"
   ]
  },
  {
   "cell_type": "code",
   "execution_count": 28,
   "id": "f2d4e60a",
   "metadata": {},
   "outputs": [
    {
     "name": "stdout",
     "output_type": "stream",
     "text": [
      "2023-04-09 11:09:43.887882\n",
      "2023-04-09 05:39:43.887881+00:00\n",
      "2023-04-09 05:39:43.887881\n"
     ]
    }
   ],
   "source": [
    "print(datetime.datetime.today())\n",
    "print(datetime.datetime.now(tz=pytz.utc))\n",
    "print(datetime.datetime.utcnow())"
   ]
  },
  {
   "cell_type": "code",
   "execution_count": 31,
   "id": "43ed4075",
   "metadata": {},
   "outputs": [
    {
     "name": "stdout",
     "output_type": "stream",
     "text": [
      "2023-04-09 00:00:00\n"
     ]
    }
   ],
   "source": [
    "str_dt= \"April 09, 2023\"\n",
    "dt = datetime.datetime.strptime(str_dt, \"%B %d, %Y\") # strptime converts string to datetime\n",
    "print(dt)"
   ]
  },
  {
   "cell_type": "code",
   "execution_count": null,
   "id": "02cb18a3",
   "metadata": {},
   "outputs": [],
   "source": []
  }
 ],
 "metadata": {
  "kernelspec": {
   "display_name": "Python 3 (ipykernel)",
   "language": "python",
   "name": "python3"
  },
  "language_info": {
   "codemirror_mode": {
    "name": "ipython",
    "version": 3
   },
   "file_extension": ".py",
   "mimetype": "text/x-python",
   "name": "python",
   "nbconvert_exporter": "python",
   "pygments_lexer": "ipython3",
   "version": "3.9.13"
  }
 },
 "nbformat": 4,
 "nbformat_minor": 5
}
