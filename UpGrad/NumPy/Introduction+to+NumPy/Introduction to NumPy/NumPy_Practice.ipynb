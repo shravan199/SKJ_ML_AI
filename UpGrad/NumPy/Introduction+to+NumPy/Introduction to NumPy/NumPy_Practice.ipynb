{
 "cells": [
  {
   "cell_type": "code",
   "execution_count": 30,
   "id": "16fd2be1",
   "metadata": {},
   "outputs": [],
   "source": [
    "import numpy as np"
   ]
  },
  {
   "cell_type": "code",
   "execution_count": 31,
   "id": "2240583e",
   "metadata": {},
   "outputs": [
    {
     "data": {
      "text/plain": [
       "array([[ 4.,  5.,  7., 14.],\n",
       "       [ 5.,  8.,  9.,  4.]])"
      ]
     },
     "execution_count": 31,
     "metadata": {},
     "output_type": "execute_result"
    }
   ],
   "source": [
    "np_array= np.array([[4,5,7,14], [5,8,9, 4]], float)\n",
    "np_array"
   ]
  },
  {
   "cell_type": "code",
   "execution_count": 32,
   "id": "bf0d400c",
   "metadata": {},
   "outputs": [
    {
     "name": "stdout",
     "output_type": "stream",
     "text": [
      "[[ 4.  5.  7. 14.]\n",
      " [ 5.  8.  9.  4.]]\n",
      "\n",
      "<class 'numpy.ndarray'>\n",
      "(2, 4)\n",
      "float64\n"
     ]
    }
   ],
   "source": [
    "print(np_array)\n",
    "print()\n",
    "print(type(np_array))\n",
    "print(np_array.shape)\n",
    "print(np_array.dtype)"
   ]
  },
  {
   "cell_type": "code",
   "execution_count": 33,
   "id": "3b541d1c",
   "metadata": {},
   "outputs": [
    {
     "data": {
      "text/plain": [
       "4.0"
      ]
     },
     "execution_count": 33,
     "metadata": {},
     "output_type": "execute_result"
    }
   ],
   "source": [
    "np_array[1, 3]"
   ]
  },
  {
   "cell_type": "code",
   "execution_count": 34,
   "id": "f033cd3a",
   "metadata": {},
   "outputs": [
    {
     "data": {
      "text/plain": [
       "array([7., 9.])"
      ]
     },
     "execution_count": 34,
     "metadata": {},
     "output_type": "execute_result"
    }
   ],
   "source": [
    "np_array2 = np_array[:, 2]\n",
    "np_array2"
   ]
  },
  {
   "cell_type": "code",
   "execution_count": 37,
   "id": "494a052d",
   "metadata": {},
   "outputs": [
    {
     "data": {
      "text/plain": [
       "  C_CONTIGUOUS : True\n",
       "  F_CONTIGUOUS : False\n",
       "  OWNDATA : True\n",
       "  WRITEABLE : True\n",
       "  ALIGNED : True\n",
       "  WRITEBACKIFCOPY : False\n",
       "  UPDATEIFCOPY : False"
      ]
     },
     "execution_count": 37,
     "metadata": {},
     "output_type": "execute_result"
    }
   ],
   "source": [
    "np_array.flags"
   ]
  },
  {
   "cell_type": "code",
   "execution_count": 38,
   "id": "cd8cb3ae",
   "metadata": {},
   "outputs": [
    {
     "data": {
      "text/plain": [
       "array([[ 4.,  5.],\n",
       "       [ 5.,  8.],\n",
       "       [ 7.,  9.],\n",
       "       [14.,  4.]])"
      ]
     },
     "execution_count": 38,
     "metadata": {},
     "output_type": "execute_result"
    }
   ],
   "source": [
    "np_array.T"
   ]
  },
  {
   "cell_type": "code",
   "execution_count": 39,
   "id": "eaf2e50c",
   "metadata": {},
   "outputs": [
    {
     "data": {
      "text/plain": [
       "array([[ 4.,  5.,  7., 14.],\n",
       "       [ 5.,  8.,  9.,  4.]])"
      ]
     },
     "execution_count": 39,
     "metadata": {},
     "output_type": "execute_result"
    }
   ],
   "source": [
    "np_array.real"
   ]
  },
  {
   "cell_type": "code",
   "execution_count": 42,
   "id": "9323c542",
   "metadata": {},
   "outputs": [
    {
     "data": {
      "text/plain": [
       "array([[0., 0., 0., 0.],\n",
       "       [0., 0., 0., 0.]])"
      ]
     },
     "execution_count": 42,
     "metadata": {},
     "output_type": "execute_result"
    }
   ],
   "source": [
    "np_array.imag"
   ]
  },
  {
   "cell_type": "code",
   "execution_count": 44,
   "id": "8cbde57f",
   "metadata": {},
   "outputs": [
    {
     "name": "stdout",
     "output_type": "stream",
     "text": [
      "4.0\n",
      "5.0\n",
      "7.0\n",
      "14.0\n",
      "5.0\n",
      "8.0\n",
      "9.0\n",
      "4.0\n"
     ]
    }
   ],
   "source": [
    "for item in np_array.flat:\n",
    "    print(item)"
   ]
  },
  {
   "cell_type": "code",
   "execution_count": 46,
   "id": "26864bbd",
   "metadata": {},
   "outputs": [
    {
     "data": {
      "text/plain": [
       "array([[4. +5.j, 7.+14.j],\n",
       "       [5. +8.j, 9. +4.j]])"
      ]
     },
     "execution_count": 46,
     "metadata": {},
     "output_type": "execute_result"
    }
   ],
   "source": [
    "np_array.view(dtype=complex)"
   ]
  },
  {
   "cell_type": "code",
   "execution_count": 47,
   "id": "ef383b59",
   "metadata": {},
   "outputs": [
    {
     "data": {
      "text/plain": [
       "(1,)"
      ]
     },
     "execution_count": 47,
     "metadata": {},
     "output_type": "execute_result"
    }
   ],
   "source": [
    "np.array([1]).shape"
   ]
  },
  {
   "cell_type": "code",
   "execution_count": 49,
   "id": "36c8af92",
   "metadata": {},
   "outputs": [
    {
     "data": {
      "text/plain": [
       "array([[[1., 1.],\n",
       "        [1., 1.],\n",
       "        [1., 1.],\n",
       "        [1., 1.],\n",
       "        [1., 1.],\n",
       "        [1., 1.]],\n",
       "\n",
       "       [[1., 1.],\n",
       "        [1., 1.],\n",
       "        [1., 1.],\n",
       "        [1., 1.],\n",
       "        [1., 1.],\n",
       "        [1., 1.]],\n",
       "\n",
       "       [[1., 1.],\n",
       "        [1., 1.],\n",
       "        [1., 1.],\n",
       "        [1., 1.],\n",
       "        [1., 1.],\n",
       "        [1., 1.]],\n",
       "\n",
       "       [[1., 1.],\n",
       "        [1., 1.],\n",
       "        [1., 1.],\n",
       "        [1., 1.],\n",
       "        [1., 1.],\n",
       "        [1., 1.]],\n",
       "\n",
       "       [[1., 1.],\n",
       "        [1., 1.],\n",
       "        [1., 1.],\n",
       "        [1., 1.],\n",
       "        [1., 1.],\n",
       "        [1., 1.]]])"
      ]
     },
     "execution_count": 49,
     "metadata": {},
     "output_type": "execute_result"
    }
   ],
   "source": [
    "np.ones((5,6,2))"
   ]
  },
  {
   "cell_type": "code",
   "execution_count": 65,
   "id": "4045e740",
   "metadata": {},
   "outputs": [
    {
     "data": {
      "text/plain": [
       "array([ 1,  5,  9, 13, 17, 21, 25, 29, 33, 37, 41, 45, 49])"
      ]
     },
     "execution_count": 65,
     "metadata": {},
     "output_type": "execute_result"
    }
   ],
   "source": [
    "nd_array = np.arange(start=1, stop=50, step=4, dtype=int)\n",
    "nd_array"
   ]
  },
  {
   "cell_type": "code",
   "execution_count": 66,
   "id": "c57f63b6",
   "metadata": {},
   "outputs": [
    {
     "data": {
      "text/plain": [
       "(13,)"
      ]
     },
     "execution_count": 66,
     "metadata": {},
     "output_type": "execute_result"
    }
   ],
   "source": [
    "nd_array.shape"
   ]
  },
  {
   "cell_type": "code",
   "execution_count": 67,
   "id": "51c13c91",
   "metadata": {},
   "outputs": [
    {
     "data": {
      "text/plain": [
       "  C_CONTIGUOUS : True\n",
       "  F_CONTIGUOUS : True\n",
       "  OWNDATA : True\n",
       "  WRITEABLE : True\n",
       "  ALIGNED : True\n",
       "  WRITEBACKIFCOPY : False\n",
       "  UPDATEIFCOPY : False"
      ]
     },
     "execution_count": 67,
     "metadata": {},
     "output_type": "execute_result"
    }
   ],
   "source": [
    "nd_array.flags"
   ]
  },
  {
   "cell_type": "code",
   "execution_count": 68,
   "id": "c7334f9b",
   "metadata": {},
   "outputs": [
    {
     "data": {
      "text/plain": [
       "array([7])"
      ]
     },
     "execution_count": 68,
     "metadata": {},
     "output_type": "execute_result"
    }
   ],
   "source": [
    "neg_array = np.arange(7, 0, -10)\n",
    "neg_array"
   ]
  },
  {
   "cell_type": "code",
   "execution_count": 69,
   "id": "9bee165c",
   "metadata": {},
   "outputs": [
    {
     "data": {
      "text/plain": [
       "array([49], dtype=int32)"
      ]
     },
     "execution_count": 69,
     "metadata": {},
     "output_type": "execute_result"
    }
   ],
   "source": [
    "neg_array**2"
   ]
  },
  {
   "cell_type": "code",
   "execution_count": 60,
   "id": "74c8f5e0",
   "metadata": {},
   "outputs": [
    {
     "data": {
      "text/plain": [
       "4"
      ]
     },
     "execution_count": 60,
     "metadata": {},
     "output_type": "execute_result"
    }
   ],
   "source": [
    "neg_array.itemsize"
   ]
  },
  {
   "cell_type": "code",
   "execution_count": 73,
   "id": "c0d44287",
   "metadata": {},
   "outputs": [
    {
     "data": {
      "text/plain": [
       "array([  1,   2,   4,   8,  16,  32,  64, 128, 256, 512], dtype=int32)"
      ]
     },
     "execution_count": 73,
     "metadata": {},
     "output_type": "execute_result"
    }
   ],
   "source": [
    "2** (np.arange(10))"
   ]
  },
  {
   "cell_type": "code",
   "execution_count": 75,
   "id": "003d5328",
   "metadata": {},
   "outputs": [],
   "source": [
    "nd_array = np.array([0, -1, 9, -5, -3, 6])"
   ]
  },
  {
   "cell_type": "code",
   "execution_count": 76,
   "id": "0d83701e",
   "metadata": {},
   "outputs": [
    {
     "data": {
      "text/plain": [
       "array([0, 1, 9, 5, 3, 6])"
      ]
     },
     "execution_count": 76,
     "metadata": {},
     "output_type": "execute_result"
    }
   ],
   "source": [
    "np.abs(nd_array)"
   ]
  },
  {
   "cell_type": "code",
   "execution_count": 77,
   "id": "09cf6fb5",
   "metadata": {},
   "outputs": [
    {
     "data": {
      "text/plain": [
       "array([ 0.        , -0.84147098,  0.41211849,  0.95892427, -0.14112001,\n",
       "       -0.2794155 ])"
      ]
     },
     "execution_count": 77,
     "metadata": {},
     "output_type": "execute_result"
    }
   ],
   "source": [
    "np.sin(nd_array)"
   ]
  },
  {
   "cell_type": "code",
   "execution_count": 79,
   "id": "6e8b8ecf",
   "metadata": {},
   "outputs": [
    {
     "data": {
      "text/plain": [
       "array([[0, 1],\n",
       "       [2, 3],\n",
       "       [4, 5],\n",
       "       [6, 7],\n",
       "       [8, 9]])"
      ]
     },
     "execution_count": 79,
     "metadata": {},
     "output_type": "execute_result"
    }
   ],
   "source": [
    "np.arange(10).reshape(5,2)"
   ]
  },
  {
   "cell_type": "code",
   "execution_count": 82,
   "id": "0ef2fa27",
   "metadata": {},
   "outputs": [
    {
     "name": "stdout",
     "output_type": "stream",
     "text": [
      "1.385189900000114\n",
      "3.5024116999993566\n"
     ]
    }
   ],
   "source": [
    ">>> import timeit\n",
    ">>> n = 1\n",
    ">>> print(timeit.timeit(f'x = [i**2 for i in range({n})]'))\n",
    ">>> print(timeit.timeit(f'x = np.arange({n})**2', setup='import numpy as np'))"
   ]
  },
  {
   "cell_type": "code",
   "execution_count": 83,
   "id": "e3ca9d1b",
   "metadata": {},
   "outputs": [
    {
     "name": "stdout",
     "output_type": "stream",
     "text": [
      "3.3324650000004112\n",
      "4.393362900000284\n"
     ]
    }
   ],
   "source": [
    ">>> import timeit\n",
    ">>> n = 5\n",
    ">>> print(timeit.timeit(f'x = [i**2 for i in range({n})]'))\n",
    ">>> print(timeit.timeit(f'x = np.arange({n})**2', setup='import numpy as np'))"
   ]
  },
  {
   "cell_type": "code",
   "execution_count": 84,
   "id": "d07e96d2",
   "metadata": {},
   "outputs": [
    {
     "data": {
      "text/plain": [
       "array([-8, -6, -4])"
      ]
     },
     "execution_count": 84,
     "metadata": {},
     "output_type": "execute_result"
    }
   ],
   "source": [
    "np.arange(-8, -2, 2)"
   ]
  },
  {
   "cell_type": "code",
   "execution_count": 88,
   "id": "5780cbca",
   "metadata": {},
   "outputs": [
    {
     "data": {
      "text/plain": [
       "array([ 7,  3, -1, -5])"
      ]
     },
     "execution_count": 88,
     "metadata": {},
     "output_type": "execute_result"
    }
   ],
   "source": [
    "np.arange(7, -8, -4)"
   ]
  },
  {
   "cell_type": "code",
   "execution_count": 89,
   "id": "e0777135",
   "metadata": {},
   "outputs": [
    {
     "data": {
      "text/plain": [
       "array([], dtype=int32)"
      ]
     },
     "execution_count": 89,
     "metadata": {},
     "output_type": "execute_result"
    }
   ],
   "source": [
    "np.arange(8, 2)"
   ]
  },
  {
   "cell_type": "markdown",
   "id": "678ae013",
   "metadata": {},
   "source": [
    "Practice\n",
    "Description\n",
    "Create a 3*3 array using list_1 = [1,2,3] list_2 = [4,5,6] list_3 = [7,8,9]"
   ]
  },
  {
   "cell_type": "code",
   "execution_count": 93,
   "id": "64e2b369",
   "metadata": {},
   "outputs": [
    {
     "name": "stdout",
     "output_type": "stream",
     "text": [
      "[[1 2 3]\n",
      " [4 5 6]\n",
      " [7 8 9]]\n"
     ]
    }
   ],
   "source": [
    "import numpy as np\n",
    "list_1 = [1,2,3] \n",
    "list_2 = [4,5,6] \n",
    "list_3 = [7,8,9]\n",
    "\n",
    "_3by3_array = np.array([list_1, list_2, list_3] )\n",
    "print(_3by3_array)"
   ]
  },
  {
   "cell_type": "code",
   "execution_count": null,
   "id": "b7c67f0f",
   "metadata": {},
   "outputs": [],
   "source": []
  }
 ],
 "metadata": {
  "kernelspec": {
   "display_name": "Python 3 (ipykernel)",
   "language": "python",
   "name": "python3"
  },
  "language_info": {
   "codemirror_mode": {
    "name": "ipython",
    "version": 3
   },
   "file_extension": ".py",
   "mimetype": "text/x-python",
   "name": "python",
   "nbconvert_exporter": "python",
   "pygments_lexer": "ipython3",
   "version": "3.9.13"
  }
 },
 "nbformat": 4,
 "nbformat_minor": 5
}
