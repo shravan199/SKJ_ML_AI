{
 "cells": [
  {
   "cell_type": "code",
   "execution_count": 31,
   "id": "ebfb2f6c",
   "metadata": {},
   "outputs": [],
   "source": [
    "import numpy as np\n",
    "import math\n",
    "pi= math.pi"
   ]
  },
  {
   "cell_type": "code",
   "execution_count": 32,
   "id": "3fc7ed1a",
   "metadata": {},
   "outputs": [
    {
     "name": "stdout",
     "output_type": "stream",
     "text": [
      "[2 0 1 1]\n",
      "\n",
      "[1 0 1 1]\n",
      "\n",
      "[0 1 0 1]\n",
      "\n",
      "[0 1 0 0]\n"
     ]
    }
   ],
   "source": [
    "money = np.array([2, 0, 1, 1])\n",
    "hurry = np.array([1, 0, 1, 1])\n",
    "meeting= np.array([0, 1, 0, 1])\n",
    "powerpoint= np.array([0, 1, 0, 0])\n",
    "\n",
    "print(money)\n",
    "print()\n",
    "print(hurry)\n",
    "print()\n",
    "print(meeting)\n",
    "print()\n",
    "print(powerpoint)"
   ]
  },
  {
   "cell_type": "code",
   "execution_count": 33,
   "id": "0968abeb",
   "metadata": {},
   "outputs": [],
   "source": [
    "email_1= [2, 1, 0, 0]\n",
    "email_2= [0, 0, 1, 1]\n",
    "email_3= [1, 1, 0, 0]\n",
    "email_4= [1, 1, 1, 0]"
   ]
  },
  {
   "cell_type": "code",
   "execution_count": 34,
   "id": "435e7541",
   "metadata": {},
   "outputs": [
    {
     "data": {
      "text/plain": [
       "0"
      ]
     },
     "execution_count": 34,
     "metadata": {},
     "output_type": "execute_result"
    }
   ],
   "source": [
    "dot_prod_email_1_and_email_2 = np.dot(email_1, email_2)\n",
    "dot_prod_email_1_and_email_2"
   ]
  },
  {
   "cell_type": "code",
   "execution_count": 69,
   "id": "d3b8a3c9",
   "metadata": {},
   "outputs": [],
   "source": [
    "def calculate_mod(email):\n",
    "    return np.sqrt(np.array([word_count**2 for word_count in email]).sum())"
   ]
  },
  {
   "cell_type": "code",
   "execution_count": 70,
   "id": "43caa9af",
   "metadata": {},
   "outputs": [
    {
     "data": {
      "text/plain": [
       "2.23606797749979"
      ]
     },
     "execution_count": 70,
     "metadata": {},
     "output_type": "execute_result"
    }
   ],
   "source": [
    "mod_of_email_1 =calculate_mod(email_1)\n",
    "mod_of_email_1"
   ]
  },
  {
   "cell_type": "code",
   "execution_count": 71,
   "id": "978f9a1b",
   "metadata": {},
   "outputs": [
    {
     "data": {
      "text/plain": [
       "1.4142135623730951"
      ]
     },
     "execution_count": 71,
     "metadata": {},
     "output_type": "execute_result"
    }
   ],
   "source": [
    "mod_of_email_2 = calculate_mod(email_2)\n",
    "mod_of_email_2"
   ]
  },
  {
   "cell_type": "code",
   "execution_count": 72,
   "id": "81dd4b77",
   "metadata": {},
   "outputs": [
    {
     "data": {
      "text/plain": [
       "3.141592653589793"
      ]
     },
     "execution_count": 72,
     "metadata": {},
     "output_type": "execute_result"
    }
   ],
   "source": [
    "pi = math.pi\n",
    "pi"
   ]
  },
  {
   "cell_type": "code",
   "execution_count": 73,
   "id": "933f72df",
   "metadata": {},
   "outputs": [
    {
     "data": {
      "text/plain": [
       "90.0"
      ]
     },
     "execution_count": 73,
     "metadata": {},
     "output_type": "execute_result"
    }
   ],
   "source": [
    "rel_btw_email_1_and_email_2 = np.arccos((dot_prod_email_1_and_email_2)/(mod_of_email_1 * mod_of_email_2))* (180/pi)\n",
    "rel_btw_email_1_and_email_2"
   ]
  },
  {
   "cell_type": "code",
   "execution_count": 74,
   "id": "564a4fed",
   "metadata": {},
   "outputs": [
    {
     "data": {
      "text/plain": [
       "18.434948822922017"
      ]
     },
     "execution_count": 74,
     "metadata": {},
     "output_type": "execute_result"
    }
   ],
   "source": [
    "np.arccos(3/(np.sqrt(5)*np.sqrt(2)))*(180/pi)"
   ]
  },
  {
   "cell_type": "code",
   "execution_count": 75,
   "id": "5f190e87",
   "metadata": {},
   "outputs": [
    {
     "data": {
      "text/plain": [
       "3"
      ]
     },
     "execution_count": 75,
     "metadata": {},
     "output_type": "execute_result"
    }
   ],
   "source": [
    "dot_prod_email_1_and_email_3 = np.dot(email_1, email_3)\n",
    "dot_prod_email_1_and_email_3"
   ]
  },
  {
   "cell_type": "code",
   "execution_count": 82,
   "id": "6273a027",
   "metadata": {},
   "outputs": [
    {
     "data": {
      "text/plain": [
       "1.4142135623730951"
      ]
     },
     "execution_count": 82,
     "metadata": {},
     "output_type": "execute_result"
    }
   ],
   "source": [
    "mod_of_email_3=calculate_mod(email_3)\n",
    "mod_of_email_3"
   ]
  },
  {
   "cell_type": "code",
   "execution_count": 84,
   "id": "d0e9558a",
   "metadata": {},
   "outputs": [
    {
     "data": {
      "text/plain": [
       "1.7320508075688772"
      ]
     },
     "execution_count": 84,
     "metadata": {},
     "output_type": "execute_result"
    }
   ],
   "source": [
    "mod_of_email_4=calculate_mod(email_4)\n",
    "mod_of_email_4"
   ]
  },
  {
   "cell_type": "code",
   "execution_count": 85,
   "id": "cdd58126",
   "metadata": {},
   "outputs": [
    {
     "data": {
      "text/plain": [
       "3"
      ]
     },
     "execution_count": 85,
     "metadata": {},
     "output_type": "execute_result"
    }
   ],
   "source": [
    "dot_prod_email_1_and_email_4 = np.dot(email_1, email_4)\n",
    "dot_prod_email_1_and_email_4"
   ]
  },
  {
   "cell_type": "code",
   "execution_count": null,
   "id": "2a08d5f2",
   "metadata": {},
   "outputs": [],
   "source": []
  },
  {
   "cell_type": "code",
   "execution_count": 80,
   "id": "85538af5",
   "metadata": {},
   "outputs": [
    {
     "data": {
      "text/plain": [
       "18.434948822922017"
      ]
     },
     "execution_count": 80,
     "metadata": {},
     "output_type": "execute_result"
    }
   ],
   "source": [
    "rel_btw_email_1_and_email_3 =  np.arccos((dot_prod_email_1_and_email_3)/(mod_of_email_1 * mod_of_email_3))* (180/pi)\n",
    "# returns 18.434948822922017\n",
    "rel_btw_email_1_and_email_3"
   ]
  },
  {
   "cell_type": "code",
   "execution_count": 78,
   "id": "98a8350b",
   "metadata": {},
   "outputs": [
    {
     "data": {
      "text/plain": [
       "3"
      ]
     },
     "execution_count": 78,
     "metadata": {},
     "output_type": "execute_result"
    }
   ],
   "source": [
    "dot_prod_email_1_and_email_4 = np.dot(email_1, email_4)\n",
    "dot_prod_email_1_and_email_4"
   ]
  },
  {
   "cell_type": "code",
   "execution_count": 86,
   "id": "818f35b7",
   "metadata": {},
   "outputs": [
    {
     "data": {
      "text/plain": [
       "39.231520483592256"
      ]
     },
     "execution_count": 86,
     "metadata": {},
     "output_type": "execute_result"
    }
   ],
   "source": [
    "rel_btw_email_1_and_email_4 =  np.arccos((dot_prod_email_1_and_email_4)/(mod_of_email_1 * mod_of_email_4))* (180/pi)\n",
    "rel_btw_email_1_and_email_4"
   ]
  },
  {
   "cell_type": "code",
   "execution_count": 79,
   "id": "cf3e7de4",
   "metadata": {},
   "outputs": [
    {
     "data": {
      "text/plain": [
       "0"
      ]
     },
     "execution_count": 79,
     "metadata": {},
     "output_type": "execute_result"
    }
   ],
   "source": [
    "dot_prod_email_2_and_email_3 = np.dot(email_2, email_3)\n",
    "dot_prod_email_2_and_email_3"
   ]
  },
  {
   "cell_type": "code",
   "execution_count": 87,
   "id": "6cd30a11",
   "metadata": {},
   "outputs": [
    {
     "data": {
      "text/plain": [
       "35.26438968275466"
      ]
     },
     "execution_count": 87,
     "metadata": {},
     "output_type": "execute_result"
    }
   ],
   "source": [
    "rel_btw_email_3_and_email_4 =  np.arccos((dot_prod_email_3_and_email_4)/(mod_of_email_3 * mod_of_email_4))* (180/pi)\n",
    "rel_btw_email_3_and_email_4"
   ]
  },
  {
   "cell_type": "code",
   "execution_count": 24,
   "id": "a96c436a",
   "metadata": {},
   "outputs": [
    {
     "data": {
      "text/plain": [
       "1"
      ]
     },
     "execution_count": 24,
     "metadata": {},
     "output_type": "execute_result"
    }
   ],
   "source": [
    "dot_prod_email_2_and_email_4 = np.dot(email_2, email_4)\n",
    "dot_prod_email_2_and_email_4"
   ]
  },
  {
   "cell_type": "code",
   "execution_count": 25,
   "id": "a31cac0f",
   "metadata": {},
   "outputs": [
    {
     "data": {
      "text/plain": [
       "2"
      ]
     },
     "execution_count": 25,
     "metadata": {},
     "output_type": "execute_result"
    }
   ],
   "source": [
    "dot_prod_email_3_and_email_4 = np.dot(email_3, email_4)\n",
    "dot_prod_email_3_and_email_4"
   ]
  },
  {
   "cell_type": "code",
   "execution_count": null,
   "id": "44d57e6d",
   "metadata": {},
   "outputs": [],
   "source": []
  }
 ],
 "metadata": {
  "kernelspec": {
   "display_name": "Python 3 (ipykernel)",
   "language": "python",
   "name": "python3"
  },
  "language_info": {
   "codemirror_mode": {
    "name": "ipython",
    "version": 3
   },
   "file_extension": ".py",
   "mimetype": "text/x-python",
   "name": "python",
   "nbconvert_exporter": "python",
   "pygments_lexer": "ipython3",
   "version": "3.9.13"
  }
 },
 "nbformat": 4,
 "nbformat_minor": 5
}
